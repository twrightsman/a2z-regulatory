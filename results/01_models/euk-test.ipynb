version https://git-lfs.github.com/spec/v1
oid sha256:f17246ac2feaa31f7975eca24ec23df22aa2e29ab64ad83659e072ecf6ffe5e1
size 64873
